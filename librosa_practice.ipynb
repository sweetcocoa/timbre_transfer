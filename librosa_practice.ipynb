{
 "cells": [
  {
   "cell_type": "code",
   "execution_count": 1,
   "metadata": {
    "collapsed": true
   },
   "outputs": [],
   "source": [
    "%load_ext autoreload\n",
    "%autoreload 2"
   ]
  },
  {
   "cell_type": "code",
   "execution_count": 10,
   "metadata": {
    "collapsed": true
   },
   "outputs": [],
   "source": [
    "import librosa\n",
    "import sys, os, glob\n",
    "import IPython.display"
   ]
  },
  {
   "cell_type": "code",
   "execution_count": 3,
   "metadata": {},
   "outputs": [
    {
     "data": {
      "text/plain": [
       "'0.6.2'"
      ]
     },
     "execution_count": 3,
     "metadata": {},
     "output_type": "execute_result"
    }
   ],
   "source": [
    "librosa.version.version"
   ]
  },
  {
   "cell_type": "code",
   "execution_count": 4,
   "metadata": {},
   "outputs": [
    {
     "data": {
      "text/plain": [
       "'./data/ukulele\\\\Kalei Gamiao-04-Kiss From A Rose-320k.mp3'"
      ]
     },
     "execution_count": 4,
     "metadata": {},
     "output_type": "execute_result"
    }
   ],
   "source": [
    "musics = glob.glob(\"./data/ukulele/*.mp3\")\n",
    "musics[0]"
   ]
  },
  {
   "cell_type": "code",
   "execution_count": 5,
   "metadata": {},
   "outputs": [
    {
     "data": {
      "text/plain": [
       "(4281432, 22050, 194.16925170068026)"
      ]
     },
     "execution_count": 5,
     "metadata": {},
     "output_type": "execute_result"
    }
   ],
   "source": [
    "music = musics[0]\n",
    "y, sr = librosa.load(music)\n",
    "duration = len(y) / sr\n",
    "len(y), sr, duration"
   ]
  },
  {
   "cell_type": "code",
   "execution_count": 13,
   "metadata": {},
   "outputs": [
    {
     "data": {
      "text/plain": [
       "(84, 2)"
      ]
     },
     "execution_count": 13,
     "metadata": {},
     "output_type": "execute_result"
    }
   ],
   "source": [
    "window_size = 512\n",
    "one_window = y[:window_size]\n",
    "cqt = librosa.cqt(one_window)\n",
    "cqt.shape"
   ]
  },
  {
   "cell_type": "code",
   "execution_count": 7,
   "metadata": {},
   "outputs": [
    {
     "data": {
      "text/plain": [
       "numpy.ndarray"
      ]
     },
     "execution_count": 7,
     "metadata": {},
     "output_type": "execute_result"
    }
   ],
   "source": [
    "C_cqt = abs(cqt)\n",
    "type(C_cqt)"
   ]
  },
  {
   "cell_type": "code",
   "execution_count": 15,
   "metadata": {},
   "outputs": [
    {
     "data": {
      "text/html": [
       "\n",
       "                <audio controls=\"controls\" >\n",
       "                    <source src=\"data:audio/wav;base64,UklGRiQEAABXQVZFZm10IBAAAAABAAEAIlYAAESsAAACABAAZGF0YQAEAAAqv+myWqMYn1ailrS10JDsGwN/BoQBo/YQ6xHiZdaU0Svb2+bM64TpmuOm5rHoV+Tw4x/rlPr8EJgh7izmPbZLyld7XwliqmSXaPFtVW6JY09QuTphJooYUQ5BCGQFQ/1Q8O7hC9K8vsWp+J9CpHqyj8hI35jwFPV06q/c8NBAxJW6pbbOuo/D5sokzH7J58ZqxYbHwczQ2Onn6vkUDTofzTP6RFNP8FOrV75eFmxNef9/KXzJbwFgw0tLOzEy1y8nLlIjdRCC/z3xit4hyoO5FrT/uifLheJp9p/6Ye6c3fHQ5sbEvIa2A7dMve3Dg8INv5i/778Fvse+cMeg1zjpP/oKDmYjpjRIPbVBbEjQUYVcQma/amxpnF/DSzc1bSTeHVkdNBsFFAgI0PqM6ujVk8Nmuee4McOr2On0CQzAEZMK4v/M8gDkxtYn0RjTmNes2o7YJ9XW0VDMH8fDxnzOkNt66G73mApLIQA2iT83Q4dGo02LWD9koWugaVddkEfwMAAgBhcTExcP/AYd/IHvVOCwz2K+cbDaqjuwecOM3rf0vP1m+S/v0uFd1MzIjsK+w8fInc6Z0CvS7tL60L3PKtQY4MftafrUB6IaDTAvQ8pMkE8SVIVaz2Rrb7d0+nJzaDlU0zveJ4AdrxlkFscOhwRX+ojsD9nVw3a0E634r1LBcdx99fL/5PrM79DjhtXzyEvDqMTiyqDOhs+Bzy/PRcvSxIfFV85b2m/mUfZxCQEdYSyDM+o4kz3sQUxMF1uyZphqmmISUFE61ik8IVwcFxiyEB4Iq/9N8+Xgm86fvy+3QLqLyVfjzvrfBgMGuP2D8v7lINtx1kXY7dvC3wXfgt5G3prZ1tTN1KzbCubj8E/8OA1aILIvTziJO4c9wECfSddVoV5vX5FWIUMpLSUbahDAC7kHfQI4+xXydOJXz4m+UbELquity76z2WX2Xgc+Cl8Dx/hu7JfgpNpG3LzjxumB6+vqnui+4sfb4dkF3pfl9u3g91gIwh25L+g6UT/ZQONEC03wV7FgAGP5WnJIlDF8HoISOQuQBPj9b/i672HiktKew0y1E6kYp5y0iM8V6zb8CAFC/R31DOn13ALXZtjU3XPimeQF5UbjI+Bn3b7eZ+WJ7oj3bAL3EVUjNzOoPYBBW0J2RdFN5Fq1ZV5odmANTU41kCBPE6oJJAHS+uv0n+004UbSlsKusu+kRqEur3fJO+Vf92L+fv0g9/HrDuBU20jfc+Uo6SHr0OuJ63bnX+Jv4DTjmOkB8hf+HQ4NIbMyXj1VQK9AiUKrSntXtGFJZJZcv0wEORko3xt9ECsHBgFj+y/zEeZt1APD2bEboS6b9aXEvYvW9uY47W/s\" type=\"audio/wav\" />\n",
       "                    Your browser does not support the audio element.\n",
       "                </audio>\n",
       "              "
      ],
      "text/plain": [
       "<IPython.lib.display.Audio object>"
      ]
     },
     "execution_count": 15,
     "metadata": {},
     "output_type": "execute_result"
    }
   ],
   "source": [
    "IPython.display.Audio(data=y[20480:20480+window_size], rate=sr)"
   ]
  },
  {
   "cell_type": "code",
   "execution_count": null,
   "metadata": {
    "collapsed": true
   },
   "outputs": [],
   "source": []
  }
 ],
 "metadata": {
  "kernelspec": {
   "display_name": "Python [conda env:pt4_2]",
   "language": "python",
   "name": "conda-env-pt4_2-py"
  },
  "language_info": {
   "codemirror_mode": {
    "name": "ipython",
    "version": 3
   },
   "file_extension": ".py",
   "mimetype": "text/x-python",
   "name": "python",
   "nbconvert_exporter": "python",
   "pygments_lexer": "ipython3",
   "version": "3.6.5"
  }
 },
 "nbformat": 4,
 "nbformat_minor": 2
}
